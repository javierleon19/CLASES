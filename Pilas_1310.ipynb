{
  "nbformat": 4,
  "nbformat_minor": 0,
  "metadata": {
    "colab": {
      "name": "Pilas-1310.ipynb",
      "provenance": [],
      "collapsed_sections": [],
      "authorship_tag": "ABX9TyO7yMsFKjeVZ1vd2uuwNh2o",
      "include_colab_link": true
    },
    "kernelspec": {
      "name": "python3",
      "display_name": "Python 3"
    },
    "language_info": {
      "name": "python"
    }
  },
  "cells": [
    {
      "cell_type": "markdown",
      "metadata": {
        "id": "view-in-github",
        "colab_type": "text"
      },
      "source": [
        "<a href=\"https://colab.research.google.com/github/javierleon19/CLASES/blob/main/Pilas_1310.ipynb\" target=\"_parent\"><img src=\"https://colab.research.google.com/assets/colab-badge.svg\" alt=\"Open In Colab\"/></a>"
      ]
    },
    {
      "cell_type": "code",
      "metadata": {
        "id": "c-q1cLtPMwPB"
      },
      "source": [
        "class StackADT:\n",
        "  def __init__(self):\n",
        "    self.__data = list()\n",
        "\n",
        "  #regresa true si la pila está vacía\n",
        "  def is_empty(self):\n",
        "    return len(self.__data) == 0\n",
        "\n",
        "  def get_length(self):\n",
        "    return len(self.__data)\n",
        "\n",
        "  def pop(self):\n",
        "    if self.is_empty():      \n",
        "      print(\"Pila vacía, nada que sacar\")\n",
        "    else:\n",
        "      return self.__data.pop()    \n",
        "\n",
        "  def peek(self):\n",
        "    if self.is_empty():\n",
        "      print(\"Pila vacia, nada que sacar\")\n",
        "    else:\n",
        "      return self.__data[ -1 ]\n",
        "\n",
        "  def push(self , value):\n",
        "    self.__data.append(value)\n",
        "\n",
        "  def to_string(self):\n",
        "    for item in self.__data[::-1]:\n",
        "      print(f\"| { item } |\")\n",
        "\n",
        "\n",
        "\n"
      ],
      "execution_count": 3,
      "outputs": []
    },
    {
      "cell_type": "code",
      "metadata": {
        "colab": {
          "base_uri": "https://localhost:8080/"
        },
        "id": "UaV8N58bQhY9",
        "outputId": "52c93845-7549-4a48-b2a6-28808e0f032e"
      },
      "source": [
        "pila = StackADT()\n",
        "print(\"Esta vacia? =\" , pila.is_empty() )\n",
        "print(\"# elementos:\" , pila.get_length() )\n",
        "pila.push(10)\n",
        "print(\"Esta vacia? =\" , pila.is_empty() )\n",
        "print(\"# elementos:\" , pila.get_length() )\n",
        "pila.push(20)\n",
        "pila.push(30)\n",
        "pila.push(40)\n",
        "pila.to_string()\n",
        "print(pila.pop())\n",
        "print(pila.peek())\n",
        "pila.to_string()"
      ],
      "execution_count": 4,
      "outputs": [
        {
          "output_type": "stream",
          "name": "stdout",
          "text": [
            "Esta vacia? = True\n",
            "# elementos: 0\n",
            "Esta vacia? = False\n",
            "# elementos: 1\n",
            "| 40 |\n",
            "| 30 |\n",
            "| 20 |\n",
            "| 10 |\n",
            "40\n",
            "30\n",
            "| 30 |\n",
            "| 20 |\n",
            "| 10 |\n"
          ]
        }
      ]
    },
    {
      "cell_type": "markdown",
      "metadata": {
        "id": "P84h83B7yhtD"
      },
      "source": [
        "#Aplicación de Pilas, balanceo de llaves de programación "
      ]
    },
    {
      "cell_type": "code",
      "metadata": {
        "colab": {
          "base_uri": "https://localhost:8080/"
        },
        "id": "Cbe742oyzPcX",
        "outputId": "a3be6eec-bf14-4aad-d234-99ac07493568"
      },
      "source": [
        "!cat prog.txt"
      ],
      "execution_count": 5,
      "outputs": [
        {
          "output_type": "stream",
          "name": "stdout",
          "text": [
            "#include <stdio.h>\n",
            "int main()\n",
            "{\n",
            "    int num, count, sum = 0;\n",
            "\n",
            "    printf(\"Enter a positive integer: \");\n",
            "    scanf(\"%d\", &num);\n",
            "\n",
            "    // for loop terminates when num is less than count\n",
            "    for(count = 1; count <= num; ++count)\n",
            "    {\n",
            "        sum += count;\n",
            "    }\n",
            "\n",
            "    printf(\"Sum = %d\", sum);\n",
            "\n",
            "    return 0;\n",
            "}"
          ]
        }
      ]
    },
    {
      "cell_type": "code",
      "metadata": {
        "colab": {
          "base_uri": "https://localhost:8080/"
        },
        "id": "csfRaPyyzwh2",
        "outputId": "60224ee7-e2d8-4bec-9901-43bcea57273a"
      },
      "source": [
        "entrada = open('prog.txt' , 'rt')\n",
        "codigo = entrada.read()\n",
        "#print( codigo )\n",
        "pilaControl = StackADT()\n",
        "pilaControl.push('#') #Caracter de pila vacia \n",
        "\n",
        "for letra in codigo:\n",
        "  #print(f\"--> {letra} <--\")\n",
        "  if letra == '{':  #regla 1\n",
        "    pilaControl.push('{')\n",
        "  elif letra == '}':  #regla 2\n",
        "    basura = pilaControl.pop()\n",
        "  else:  \n",
        "    pass\n",
        "\n",
        "# NOTA: Este codigo aún no contempla desbalanceo de más llaves de cierre \n",
        "if pilaControl.peek() == '#':\n",
        "  print(\"El codigo proporcionado está correctamente balanceado\")\n",
        "else:\n",
        "  print(\"El codigo no está balanceado en llaves { y } \")\n",
        "\n",
        "#Tarea terminar el programa "
      ],
      "execution_count": 12,
      "outputs": [
        {
          "output_type": "stream",
          "name": "stdout",
          "text": [
            "El codigo proporcionado está correctamente balanceado\n"
          ]
        }
      ]
    },
    {
      "cell_type": "markdown",
      "metadata": {
        "id": "b3j__b3B7Qbw"
      },
      "source": [
        "#Aplicacion con pilas.\n",
        "##Estrategia de diseño de algoritmos BACKTRACKING"
      ]
    },
    {
      "cell_type": "code",
      "metadata": {
        "id": "ETBQgGLo7YIm"
      },
      "source": [
        ""
      ],
      "execution_count": null,
      "outputs": []
    }
  ]
}
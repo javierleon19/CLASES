{
  "nbformat": 4,
  "nbformat_minor": 0,
  "metadata": {
    "colab": {
      "name": "colas1310.ipynb",
      "provenance": [],
      "collapsed_sections": [],
      "authorship_tag": "ABX9TyPjJQEyOIYgR497Y3E1gRDU",
      "include_colab_link": true
    },
    "kernelspec": {
      "name": "python3",
      "display_name": "Python 3"
    },
    "language_info": {
      "name": "python"
    }
  },
  "cells": [
    {
      "cell_type": "markdown",
      "metadata": {
        "id": "view-in-github",
        "colab_type": "text"
      },
      "source": [
        "<a href=\"https://colab.research.google.com/github/javierleon19/CLASES/blob/main/colas1310.ipynb\" target=\"_parent\"><img src=\"https://colab.research.google.com/assets/colab-badge.svg\" alt=\"Open In Colab\"/></a>"
      ]
    },
    {
      "cell_type": "code",
      "metadata": {
        "id": "tu5wFJ-wJ_kU"
      },
      "source": [
        "class Queue:\n",
        "  def __init__( self ):\n",
        "    self.data = []\n",
        "\n",
        "  def is_empty( self ):\n",
        "    return len( self.data ) == 0\n",
        "\n",
        "  def lenght( self ):\n",
        "    return len( self.data )\n",
        "\n",
        "  def enqueue( self , value ):\n",
        "    self.data.append( value )\n",
        "\n",
        "  def dequeue( self ):\n",
        "    self.data.pop(0) \n",
        "\n",
        "  def to_string( self ):\n",
        "    for elem in self.data:\n",
        "      print(f\"| { elem } | <---\" , end=\"\" )\n",
        "    print(\"\")\n"
      ],
      "execution_count": 37,
      "outputs": []
    },
    {
      "cell_type": "code",
      "metadata": {
        "colab": {
          "base_uri": "https://localhost:8080/"
        },
        "id": "QZDID8g-Mfut",
        "outputId": "cf980e42-7ccd-4dc4-e69f-0e69a9d7727f"
      },
      "source": [
        "cola = Queue()\n",
        "print(\"¿Esta vacio?\" , cola.is_empty() )\n",
        "print(\"numero de elementos = \" , cola.lenght() )\n",
        "cola.enqueue(10)\n",
        "cola.enqueue(20)\n",
        "cola.enqueue(30)\n",
        "print(\"¿Esta vacio?\" , cola.is_empty() )\n",
        "print(\"numero de elementos = \" , cola.lenght() )\n",
        "cola.enqueue(40)\n",
        "cola.enqueue(50)\n",
        "cola.enqueue(60)\n",
        "cola.to_string()\n",
        "siguiente = cola.dequeue()\n",
        "print(\"Atendiendo a:\" , siguiente)\n",
        "cola.to_string()"
      ],
      "execution_count": 38,
      "outputs": [
        {
          "output_type": "stream",
          "name": "stdout",
          "text": [
            "¿Esta vacio? True\n",
            "numero de elementos =  0\n",
            "¿Esta vacio? False\n",
            "numero de elementos =  3\n",
            "| 10 | <---| 20 | <---| 30 | <---| 40 | <---| 50 | <---| 60 | <---\n",
            "Atendiendo a: None\n",
            "| 20 | <---| 30 | <---| 40 | <---| 50 | <---| 60 | <---\n"
          ]
        }
      ]
    },
    {
      "cell_type": "markdown",
      "metadata": {
        "id": "_m8r53WLQi64"
      },
      "source": [
        "#Variante del ADT Cola\n",
        "1. Circulares \n",
        "2. Prioridad\n",
        "  2.1 acotada\n",
        "  2.2 no acotada\n",
        "  "
      ]
    },
    {
      "cell_type": "code",
      "metadata": {
        "id": "gMcUbNp3YGq0"
      },
      "source": [
        "#Implementacion de la cola de prioridad acotada\n",
        "\n",
        "class BoundedPriorityQueue:\n",
        "    def __init__( self , niveles):\n",
        "        self.__data = [ Queue() for x in range(niveles) ]\n",
        "        #slef.__data = Array(niveles)\n",
        "        #self.__data.clear( Queue() )\n",
        "        self.__size = 0\n",
        "\n",
        "    def is_empty( self ):\n",
        "        return self.__size == 0\n",
        "\n",
        "    def length( self ):\n",
        "        return self.__size\n",
        "\n",
        "    def enqueue( self , prioridad , elem ):\n",
        "        if prioridad < len( self.__data ) \\\n",
        "            and prioridad >= 0:\n",
        "            self.__data[ prioridad ].enqueue( elem )\n",
        "            self.__size +=1\n",
        "\n",
        "    def dequeue( self ):\n",
        "        nivel = 0\n",
        "        while self.__data[nivel].is_empty() \\\n",
        "                and nivel < self.length():\n",
        "            nivel +=1\n",
        "\n",
        "        if nivel >= self.length():\n",
        "            print(\"Cola esta vacia\")\n",
        "        else:\n",
        "            return self.__data[ nivel ].dequeue()\n",
        "\n",
        "    def to_string( self ):\n",
        "        prioridad = 0\n",
        "        for cola in self.__data:\n",
        "            print(f\"Prioridad {prioridad} ->\", end=\"\")\n",
        "            if not cola.is_empty():\n",
        "                cola.to_string()\n",
        "                prioridad +=1\n"
      ],
      "execution_count": 39,
      "outputs": []
    },
    {
      "cell_type": "code",
      "metadata": {
        "colab": {
          "base_uri": "https://localhost:8080/"
        },
        "id": "GbcNMWRYYLm2",
        "outputId": "57800965-2fb4-44e6-d287-e28ff3321d46"
      },
      "source": [
        "#prueba de la cola con prioridad \n",
        "salvavidas = BoundedPriorityQueue( 7 )\n",
        "salvavidas.enqueue( 4 , \"Maestre\" )\n",
        "salvavidas.enqueue( 1 , \"Niños\" )\n",
        "salvavidas.enqueue( 4 ,\"Mecanicos\")\n",
        "salvavidas.enqueue( 3 , \"Mujeres\" )\n",
        "salvavidas.enqueue( 2 , \"Tercera Edad\" )\n",
        "salvavidas.enqueue( 1 ,\"Niñas\")\n",
        "salvavidas.enqueue( 3 , \"Hombres\" )\n",
        "salvavidas.enqueue( 4 , \"Vigia\" )\n",
        "salvavidas.enqueue( 5 , \"Capitan\" )\n",
        "salvavidas.enqueue( 4 , \"Timonel\" )\n",
        "salvavidas.to_string()\n",
        "print(\"-.-.-.\")\n",
        "sig = salvavidas.dequeue()\n",
        "print(f\"Subiendo { sig } al bote salvavidas\")\n",
        "salvavidas.to_string()"
      ],
      "execution_count": 40,
      "outputs": [
        {
          "output_type": "stream",
          "name": "stdout",
          "text": [
            "Prioridad 0 ->Prioridad 0 ->| Niños | <---| Niñas | <---\n",
            "Prioridad 1 ->| Tercera Edad | <---\n",
            "Prioridad 2 ->| Mujeres | <---| Hombres | <---\n",
            "Prioridad 3 ->| Maestre | <---| Mecanicos | <---| Vigia | <---| Timonel | <---\n",
            "Prioridad 4 ->| Capitan | <---\n",
            "Prioridad 5 ->-.-.-.\n",
            "Subiendo None al bote salvavidas\n",
            "Prioridad 0 ->Prioridad 0 ->| Niñas | <---\n",
            "Prioridad 1 ->| Tercera Edad | <---\n",
            "Prioridad 2 ->| Mujeres | <---| Hombres | <---\n",
            "Prioridad 3 ->| Maestre | <---| Mecanicos | <---| Vigia | <---| Timonel | <---\n",
            "Prioridad 4 ->| Capitan | <---\n",
            "Prioridad 5 ->"
          ]
        }
      ]
    },
    {
      "cell_type": "code",
      "metadata": {
        "id": "C2uwaF_nR9VF"
      },
      "source": [
        "class PriorityQueue:\n",
        "  def __init__( self ):\n",
        "    self.__data = []\n",
        "    self.__size = 0\n",
        "\n",
        "  def is_empty( self ):\n",
        "    return self.__size == 0\n",
        "\n",
        "  def length( self ) :\n",
        "    return self.__size\n",
        "\n",
        "  def enqueue(self , prioridad , elem ):\n",
        "        existe = False\n",
        "        indice = 0\n",
        "        for index in range(len(self.__data)):\n",
        "            if self.__data[index][ \"prioridad\" ] == prioridad:\n",
        "                existe = True\n",
        "                indice = index\n",
        "        \n",
        "        if existe:\n",
        "            self.__data[indice][\"cola\"].enqueue(elem)\n",
        "        else:\n",
        "            self.__data.append( {\"prioridad\":prioridad , \"cola\": Queue() } )\n",
        "            self.__data[-1][\"cola\"].enqueue(elem)\n",
        "\n",
        "  def to_string( self ):\n",
        "        for cola in self.__data:\n",
        "            cola[\"cola\"].to_string()\n",
        "     "
      ],
      "execution_count": 41,
      "outputs": []
    },
    {
      "cell_type": "code",
      "metadata": {
        "colab": {
          "base_uri": "https://localhost:8080/"
        },
        "id": "OaoLn_y7Wghm",
        "outputId": "656c3406-9186-4706-a226-45366e3777eb"
      },
      "source": [
        "cp = PriorityQueue()\n",
        "cp.enqueue(1,\"niñas\")\n",
        "cp.enqueue(2,\"niños\")\n",
        "cp.enqueue(3,\"profesor\")\n",
        "cp.enqueue(0,\"presidenteUSA\")\n",
        "cp.to_string()"
      ],
      "execution_count": 43,
      "outputs": [
        {
          "output_type": "stream",
          "name": "stdout",
          "text": [
            "| niñas | <---\n",
            "| niños | <---\n",
            "| profesor | <---\n",
            "| presidenteUSA | <---\n"
          ]
        }
      ]
    }
  ]
}
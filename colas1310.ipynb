{
  "nbformat": 4,
  "nbformat_minor": 0,
  "metadata": {
    "colab": {
      "name": "colas1310.ipynb",
      "provenance": [],
      "authorship_tag": "ABX9TyNJf3+OK4pb6qjVcRvh1fM2",
      "include_colab_link": true
    },
    "kernelspec": {
      "name": "python3",
      "display_name": "Python 3"
    },
    "language_info": {
      "name": "python"
    }
  },
  "cells": [
    {
      "cell_type": "markdown",
      "metadata": {
        "id": "view-in-github",
        "colab_type": "text"
      },
      "source": [
        "<a href=\"https://colab.research.google.com/github/javierleon19/CLASES/blob/main/colas1310.ipynb\" target=\"_parent\"><img src=\"https://colab.research.google.com/assets/colab-badge.svg\" alt=\"Open In Colab\"/></a>"
      ]
    },
    {
      "cell_type": "code",
      "metadata": {
        "id": "tu5wFJ-wJ_kU"
      },
      "source": [
        "class Queue:\n",
        "  def __init__( self ):\n",
        "    self.data = []\n",
        "\n",
        "  def is_empty( self ):\n",
        "    return len( self.data ) == 0\n",
        "\n",
        "  def lenght( self ):\n",
        "    return len( self.data )\n",
        "\n",
        "  def enqueue( self , value ):\n",
        "    self.data.append( value )\n",
        "\n",
        "  def dequeue( self ):\n",
        "    self.data.pop(0) \n",
        "\n",
        "  def to_string( self ):\n",
        "    for elem in self.data:\n",
        "      print(f\"| { elem } | <---\" , end=\"\" )\n",
        "    print(\"\")\n"
      ],
      "execution_count": 15,
      "outputs": []
    },
    {
      "cell_type": "code",
      "metadata": {
        "colab": {
          "base_uri": "https://localhost:8080/"
        },
        "id": "QZDID8g-Mfut",
        "outputId": "ebda7d8a-4a2c-48f4-8dbb-000df8423b99"
      },
      "source": [
        "cola = Queue()\n",
        "print(\"¿Esta vacio?\" , cola.is_empty() )\n",
        "print(\"numero de elementos = \" , cola.lenght() )\n",
        "cola.enqueue(10)\n",
        "cola.enqueue(20)\n",
        "cola.enqueue(30)\n",
        "print(\"¿Esta vacio?\" , cola.is_empty() )\n",
        "print(\"numero de elementos = \" , cola.lenght() )\n",
        "cola.enqueue(40)\n",
        "cola.enqueue(50)\n",
        "cola.enqueue(60)\n",
        "cola.to_string()\n",
        "siguiente = cola.dequeue()\n",
        "print(\"Atendiendo a:\" , siguiente)\n",
        "cola.to_string()"
      ],
      "execution_count": 16,
      "outputs": [
        {
          "output_type": "stream",
          "name": "stdout",
          "text": [
            "¿Esta vacio? True\n",
            "numero de elementos =  0\n",
            "¿Esta vacio? False\n",
            "numero de elementos =  3\n",
            "| 10 | <---| 20 | <---| 30 | <---| 40 | <---| 50 | <---| 60 | <---\n",
            "Atendiendo a: None\n",
            "| 20 | <---| 30 | <---| 40 | <---| 50 | <---| 60 | <---\n"
          ]
        }
      ]
    },
    {
      "cell_type": "markdown",
      "metadata": {
        "id": "_m8r53WLQi64"
      },
      "source": [
        "#Variante del ADT Cola\n",
        "1. Circulares \n",
        "2. Prioridad\n",
        "  2.1 acotada\n",
        "  2.2 no acotada\n",
        "  "
      ]
    }
  ]
}
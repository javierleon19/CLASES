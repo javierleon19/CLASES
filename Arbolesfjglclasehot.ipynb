{
  "nbformat": 4,
  "nbformat_minor": 0,
  "metadata": {
    "colab": {
      "name": "Arbolesfjgl.ipynb",
      "provenance": [],
      "authorship_tag": "ABX9TyMk3woIeSiD2xfgtIckIWUv",
      "include_colab_link": true
    },
    "kernelspec": {
      "name": "python3",
      "display_name": "Python 3"
    },
    "language_info": {
      "name": "python"
    }
  },
  "cells": [
    {
      "cell_type": "markdown",
      "metadata": {
        "id": "view-in-github",
        "colab_type": "text"
      },
      "source": [
        "<a href=\"https://colab.research.google.com/github/javierleon19/CLASES/blob/main/Arbolesfjglclasehot.ipynb\" target=\"_parent\"><img src=\"https://colab.research.google.com/assets/colab-badge.svg\" alt=\"Open In Colab\"/></a>"
      ]
    },
    {
      "cell_type": "code",
      "metadata": {
        "id": "uo7VpiBnBgMO"
      },
      "source": [
        "class NodoBinario:\n",
        "  def __init__( self , value , left= None , right= None ):\n",
        "    self.data = value\n",
        "    self.left = left\n",
        "    self.right = right\n",
        "\n",
        "class NodoTernario:\n",
        "  def __init__( self , value , left= None , center= None , right= None ):\n",
        "    self.data = value\n",
        "    self.left = left\n",
        "    self.center = center\n",
        "    self.right = right"
      ],
      "execution_count": 1,
      "outputs": []
    },
    {
      "cell_type": "code",
      "metadata": {
        "colab": {
          "base_uri": "https://localhost:8080/"
        },
        "id": "OPpuTnXuEY5B",
        "outputId": "065e078c-c88b-42b5-c57c-5dba768f58ae"
      },
      "source": [
        "arbol1 = NodoBinario(\"R\" , NodoBinario(\"C\") , NodoBinario(\"H\"))\n",
        "print(arbol1.right.data)\n",
        "\n",
        "arbol2 = NodoTernario(4 , NodoTernario(3 , NodoTernario(5 , left=NodoTernario(2)) , NodoTernario(5) , NodoTernario(2)) , None ,  NodoTernario(5))\n",
        "print(arbol2.left.right.data)\n",
        "print(arbol2.left.center.data)\n",
        "print(arbol2.right.left)\n",
        "print(\"--------------sin usar la palabra left en el print------------------\")\n",
        "ejemplo = arbol2.left.left.left.data\n",
        "print(ejemplo)\n",
        "print(\"-------¿otra forma?------\")\n",
        "\n"
      ],
      "execution_count": 2,
      "outputs": [
        {
          "output_type": "stream",
          "name": "stdout",
          "text": [
            "H\n",
            "2\n",
            "5\n",
            "None\n",
            "--------------sin usar la palabra left en el print------------------\n",
            "2\n",
            "-------¿otra forma?------\n"
          ]
        }
      ]
    },
    {
      "cell_type": "code",
      "metadata": {
        "id": "DGEvOFadIvyX",
        "colab": {
          "base_uri": "https://localhost:8080/"
        },
        "outputId": "ff623223-4939-4b9f-96ed-2931062cc313"
      },
      "source": [
        "root = NodoBinario(\"Santi\",None,NodoBinario(\"Jesus\",NodoBinario(\"Pedro\",None,NodoBinario(\" pedro jr\"))))\n",
        "print(root.right.left)"
      ],
      "execution_count": 3,
      "outputs": [
        {
          "output_type": "stream",
          "name": "stdout",
          "text": [
            "<__main__.NodoBinario object at 0x7f268c014a90>\n"
          ]
        }
      ]
    },
    {
      "cell_type": "code",
      "metadata": {
        "id": "vBWpm0Qm3zKl"
      },
      "source": [
        "class BinaryNode:\n",
        "  def __init__( self , value , left= None , right= None ):\n",
        "    self.data = value\n",
        "    self.left = left\n",
        "    self.right = right\n",
        "\n",
        "class BinarySearchTree:\n",
        "  def __init__( self ):\n",
        "    self.root = None\n",
        "    \n",
        "  def insert( self , value ):\n",
        "    if self.root == None:\n",
        "      self.root = BinaryNode( value )\n",
        "    else:\n",
        "      self.__insert_nodo( self.root , value )\n",
        "\n",
        "  def __insert_nodo( self , nodo , value ):\n",
        "    if nodo.data == value:\n",
        "      pass\n",
        "    elif value < nodo.data:\n",
        "      if nodo.left == None:\n",
        "        self.left = BinaryNode( value )\n",
        "      else:\n",
        "        self.__insert_nodo( nodo.left , value )\n",
        "    else:\n",
        "      if nodo.right == None:\n",
        "        nodo.right = BinaryNode( value )\n",
        "      else:\n",
        "        self.__insert_nodo( nodo.right , value)\n",
        "\n",
        "  def transversal( self , formato = \"posorden\" ):\n",
        "    if formato == \"posorden\":\n",
        "      self.recorrido_pos( self.root )\n",
        "    elif formato == \"posorden\":\n",
        "      self.recorrido_pre( self.root )\n",
        "    else:\n",
        "      self.recorrido_in( self.root )\n",
        "    print()  \n",
        "\n",
        "  def recorrido_pos( self , nodo):\n",
        "    if nodo != None:\n",
        "      self.recorrido_pos( nodo.left ) \n",
        "      self.recorrido_pos( nodo.right )\n",
        "      print(str(nodo.data) , end=\",\" )\n",
        "\n",
        "  def recorrido_pre( self , nodo):\n",
        "    if nodo != None:\n",
        "      print(str(nodo.data) , end=\",\" )\n",
        "      self.recorrido_pre( nodo.left ) \n",
        "      self.recorrido_pre( nodo.right )\n",
        "\n",
        "  def recorrido_in( self , nodo):\n",
        "    if nodo != None:\n",
        "      self.recorrido_in( nodo.left ) \n",
        "      print(str(nodo.data) , end=\"\" )\n",
        "      self.recorrido_in( nodo.right )    \n",
        "                        \n",
        "  def search( self , value):\n",
        "    if self.root == None:\n",
        "      print (\"El árbol está vacio\")\n",
        "      return None\n",
        "    else:\n",
        "      self.__search( self.root , value )\n",
        "\n",
        "  def search( self , nodo , value):\n",
        "    if nodo.data == None:\n",
        "      print(\"El dato no existe en el árbol\")\n",
        "      return None\n",
        "    elif nodo.data == value:\n",
        "      print(\"Encontrado\")\n",
        "      return nodo    \n",
        "    elif value < nodo.data:\n",
        "      return self.__buscar( nodo.left , value )\n",
        "    else:\n",
        "      return self.__buscar( nodo.right , value )    "
      ],
      "execution_count": 25,
      "outputs": []
    },
    {
      "cell_type": "code",
      "metadata": {
        "colab": {
          "base_uri": "https://localhost:8080/"
        },
        "id": "R31BtK0B_jdo",
        "outputId": "22529880-2c66-4f22-83fc-7c77ecc187d2"
      },
      "source": [
        "arb1 = BinarySearchTree()\n",
        "arb1.insert(60)\n",
        "arb1.insert(30)\n",
        "arb1.insert(15)\n",
        "arb1.insert(40)\n",
        "arb1.transversal()\n",
        "arb1.transversal(\"posorden\")\n",
        "arb1.transversal(\"preorden\")\n",
        "arb1.transversal(\"inorden\")"
      ],
      "execution_count": 26,
      "outputs": [
        {
          "output_type": "stream",
          "name": "stdout",
          "text": [
            "60,\n",
            "60,\n",
            "60\n",
            "60\n"
          ]
        }
      ]
    }
  ]
}
{
  "nbformat": 4,
  "nbformat_minor": 0,
  "metadata": {
    "colab": {
      "name": "Array2dADT1310.ipynb",
      "provenance": [],
      "collapsed_sections": [],
      "authorship_tag": "ABX9TyMx7xVQECUueWLGBNWAN9If",
      "include_colab_link": true
    },
    "kernelspec": {
      "name": "python3",
      "display_name": "Python 3"
    },
    "language_info": {
      "name": "python"
    }
  },
  "cells": [
    {
      "cell_type": "markdown",
      "metadata": {
        "id": "view-in-github",
        "colab_type": "text"
      },
      "source": [
        "<a href=\"https://colab.research.google.com/github/javierleon19/clases/blob/main/Array2dADT1310.ipynb\" target=\"_parent\"><img src=\"https://colab.research.google.com/assets/colab-badge.svg\" alt=\"Open In Colab\"/></a>"
      ]
    },
    {
      "cell_type": "code",
      "metadata": {
        "id": "nBZJ2EEfnlmb"
      },
      "source": [
        "class Array2DADT:\n",
        "  def __init__( self , ren , col ):    \n",
        "    self.__svemiamor = [ [ 0 for y in range(col) ] for x in range(ren) ]\n",
        "\n",
        "  def clear( self , dato ):\n",
        "    self.__svemiamor = [ [ dato for y in range(self.get_col_size())] for x in range(self.get_row_size()) ]  \n",
        "\n",
        "  def get_row_size( self ):\n",
        "    return len( self.__svemiamor)\n",
        "\n",
        "  def get_col_size( self ):\n",
        "    return len( self.__svemiamor[0] )\n",
        "\n",
        "  def set_item( self , ren , col , dato ):\n",
        "    self.__svemiamor[ren][col] = dato\n",
        "\n",
        "  def get_item( self , ren , col ):\n",
        "    return self.__svemiamor[ren][col]\n",
        "\n",
        "  def to_string( self ):\n",
        "    cadena = \"|\"\n",
        "    for renglon in self.__svemiamor:\n",
        "      for dato in renglon:\n",
        "        cadena = cadena + str(dato) +\" | \"\n",
        "      cadena = cadena + \"\\n\"\n",
        "    return cadena\n",
        "\n",
        "    "
      ],
      "execution_count": 23,
      "outputs": []
    },
    {
      "cell_type": "code",
      "metadata": {
        "colab": {
          "base_uri": "https://localhost:8080/"
        },
        "id": "XtIDrGpfooPi",
        "outputId": "5757481f-eb93-40f9-de9c-bac8199d23e0"
      },
      "source": [
        "a2d = Array2DADT( 3 , 6 )\n",
        "print(f\"Ren: { a2d.get_row_size() }\")\n",
        "print(f\"Col: { a2d.get_col_size() }\")\n",
        "print(a2d.to_string())\n",
        "print(\"\")\n",
        "a2d.clear(\"M\")\n",
        "print(a2d.to_string())\n",
        "\n",
        "a2d.set_item(2,3,'p')\n",
        "print(a2d.to_string())\n",
        "print(a2d.get_item( 2 , 3))"
      ],
      "execution_count": 25,
      "outputs": [
        {
          "output_type": "stream",
          "name": "stdout",
          "text": [
            "Ren: 3\n",
            "Col: 6\n",
            "|0 | 0 | 0 | 0 | 0 | 0 | \n",
            "0 | 0 | 0 | 0 | 0 | 0 | \n",
            "0 | 0 | 0 | 0 | 0 | 0 | \n",
            "\n",
            "\n",
            "|M | M | M | M | M | M | \n",
            "M | M | M | M | M | M | \n",
            "M | M | M | M | M | M | \n",
            "\n",
            "|M | M | M | M | M | M | \n",
            "M | M | M | M | M | M | \n",
            "M | M | M | p | M | M | \n",
            "\n",
            "p\n"
          ]
        }
      ]
    }
  ]
}
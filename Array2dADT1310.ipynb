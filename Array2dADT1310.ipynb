{
  "nbformat": 4,
  "nbformat_minor": 0,
  "metadata": {
    "colab": {
      "name": "Array2dADT1310.ipynb",
      "provenance": [],
      "collapsed_sections": [],
      "authorship_tag": "ABX9TyP6hdsFd2OwhIKmUoEqm/Ud",
      "include_colab_link": true
    },
    "kernelspec": {
      "name": "python3",
      "display_name": "Python 3"
    },
    "language_info": {
      "name": "python"
    }
  },
  "cells": [
    {
      "cell_type": "markdown",
      "metadata": {
        "id": "view-in-github",
        "colab_type": "text"
      },
      "source": [
        "<a href=\"https://colab.research.google.com/github/javierleon19/clases/blob/main/Array2dADT1310.ipynb\" target=\"_parent\"><img src=\"https://colab.research.google.com/assets/colab-badge.svg\" alt=\"Open In Colab\"/></a>"
      ]
    },
    {
      "cell_type": "code",
      "metadata": {
        "id": "nBZJ2EEfnlmb"
      },
      "source": [
        "class Array2DADT:\n",
        "  def __init__( self , ren , col ):    \n",
        "    self.__svemiamor = [ [ 0 for y in range(col) ] for x in range(ren) ]\n",
        "\n",
        "  def clear( self , dato ):\n",
        "    self.__svemiamor = [ [ dato for y in range(self.get_col_size())] for x in range(self.get_row_size()) ]  \n",
        "\n",
        "  def get_row_size( self ):\n",
        "    return len( self.__svemiamor)\n",
        "\n",
        "  def get_col_size( self ):\n",
        "    return len( self.__svemiamor[0] )\n",
        "\n",
        "  def set_item( self , ren , col , dato ):\n",
        "    self.__svemiamor[ren][col] = dato\n",
        "\n",
        "  def get_item( self , ren , col ):\n",
        "    return self.__svemiamor[ren][col]\n",
        "\n",
        "  def to_string( self ):\n",
        "    cadena = \"|\"\n",
        "    for renglon in self.__svemiamor:\n",
        "      for dato in renglon:\n",
        "        cadena = cadena + str(dato) +\" | \"\n",
        "      cadena = cadena + \"\\n\"\n",
        "    return cadena\n",
        "\n",
        "    "
      ],
      "execution_count": 3,
      "outputs": []
    },
    {
      "cell_type": "code",
      "metadata": {
        "colab": {
          "base_uri": "https://localhost:8080/"
        },
        "id": "XtIDrGpfooPi",
        "outputId": "aadea12b-abd7-4459-ab71-e579d6856657"
      },
      "source": [
        "a2d = Array2DADT( 3 , 6 )\n",
        "print(f\"Ren: { a2d.get_row_size() }\")\n",
        "print(f\"Col: { a2d.get_col_size() }\")\n",
        "print(a2d.to_string())\n",
        "print(\"\")\n",
        "a2d.clear(\"M\")\n",
        "print(a2d.to_string())\n",
        "\n",
        "a2d.set_item(2,3,'p')\n",
        "print(a2d.to_string())\n",
        "print(a2d.get_item( 2 , 3))"
      ],
      "execution_count": 6,
      "outputs": [
        {
          "output_type": "stream",
          "name": "stdout",
          "text": [
            "Ren: 3\n",
            "Col: 6\n",
            "|0 | 0 | 0 | 0 | 0 | 0 | \n",
            "0 | 0 | 0 | 0 | 0 | 0 | \n",
            "0 | 0 | 0 | 0 | 0 | 0 | \n",
            "\n",
            "\n",
            "|M | M | M | M | M | M | \n",
            "M | M | M | M | M | M | \n",
            "M | M | M | M | M | M | \n",
            "\n",
            "|M | M | M | M | M | M | \n",
            "M | M | M | M | M | M | \n",
            "M | M | M | p | M | M | \n",
            "\n",
            "p\n"
          ]
        }
      ]
    },
    {
      "cell_type": "code",
      "metadata": {
        "id": "JWqss9Qf3yRw"
      },
      "source": [
        "\"\"\"\n",
        "Los datos iniciales como lo son:\n",
        "1.- Tamanio de la pobliación (ren y col)\n",
        "2.- La poblacion inicial \n",
        "3.- El numero de generaciones a sumular -\n",
        "    Estaran proporcionadas por una archivo de entrada separado por comas (CSV)\n",
        "\n",
        "    5\n",
        "    5\n",
        "    0,0,0,0,0\n",
        "    0,0,1,0,0\n",
        "    0,1,1,1,0\n",
        "    0,0,0,0,0\n",
        "    0,0,0,0,0\n",
        "    10\n",
        "\n",
        "\"\"\"\n",
        "class JuegoDeLaVida:\n",
        "  def __init__( self , ruta_archivo ):\n",
        "    self.rens = None\n",
        "    self.cols = None\n",
        "    self.tablero = None\n",
        "    self.generaciones = None\n",
        "    self.read_game_data( ruta_archivo )\n",
        "\n",
        "  def read_game_data( self, archivo ):\n",
        "    archivo = open(archivo , 'rt')\n",
        "    lineas = archivo.readlines()\n",
        "    #print(lineas)\n",
        "    for index in range(len(lineas)):\n",
        "      lineas[index] = lineas[index].strip()\n",
        "    #print( lineas )  \n",
        "    self.rens = int( lineas[0] )\n",
        "    self.cols = int( lineas[1] )\n",
        "    self.tablero = Array2DADT(self.rens , self.cols)\n",
        "    #print(f\"{self.tablero.get_row_size()} {self.tablero.get_col_size()}\")\n",
        "    r = 0\n",
        "    c = 0\n",
        "    print( lineas )\n",
        "    for index in range(2 , 2 + self.rens , 1 ):\n",
        "      c=0\n",
        "      for dato in lineas[index].split(','):\n",
        "        self.tablero.set_item( r , c , int(dato) )\n",
        "        c += 1\n",
        "      r += 1  \n",
        "    self.generaciones = int(lineas[ - 1] ) \n",
        "    print(\"Gens:\" ,self.generaciones)\n",
        "    print(self.tablero.to_string())\n",
        "\n",
        "  def get_vecinos( self , r , c):\n",
        "        vecinos = []\n",
        "        for ren in range( r-1 , r+2 , 1 ):\n",
        "            for col in range(c-1 , c+2 , 1):\n",
        "                if ren < 0 or ren >= self.tablero.get_row_size() or col < 0 or col >= self.tablero.get_col_size() or (ren==r and col==c):\n",
        "                    pass\n",
        "                else:\n",
        "                    vecinos.append((ren,col))\n",
        "        return vecinos \n",
        "  def get_vecinos_vivos( self , r , c ):\n",
        "    vecinos = self.get_vecinos(r , c)\n",
        "    vivos = 0\n",
        "    for par in vecinos:\n",
        "      if self.tablero.get_item( par[0] , par[1] ) == 1:\n",
        "        vivos += 1\n",
        "    return vivos     \n",
        "\n",
        "\n",
        "  def calcular_siguiente( self ):\n",
        "    nueva_gen = Array2DADT(self.rens, self.cols)\n",
        "    #Aplicar reglas a cada celula y el resultado ponerlo en nueva_gen\n",
        "    for r in range( self.rens ):\n",
        "      for col in range( self.cols ):\n",
        "        print(f\"{ren},{col} --> {self.get_vecinos_vivos(ren,col)}\")\n",
        "        \n",
        "\n",
        "    self.tablero = nueva_gen\n",
        "\n",
        "      \n",
        "\n",
        "\n"
      ],
      "execution_count": 60,
      "outputs": []
    },
    {
      "cell_type": "code",
      "metadata": {
        "colab": {
          "base_uri": "https://localhost:8080/"
        },
        "id": "nu-sY15G6jUD",
        "outputId": "53cb5d72-8763-43ac-cf23-6ed53f48e3d7"
      },
      "source": [
        "juego = JuegoDeLaVida( \"entrada.txt\" )\n",
        "print(juego.get_vecinos_vivos( 1,2))\n"
      ],
      "execution_count": 63,
      "outputs": [
        {
          "output_type": "stream",
          "name": "stdout",
          "text": [
            "['5', '5', '0,0,0,0,0', '0,0,1,0,0', '0,1,1,1,0', '0,0,0,0,0', '0,0,0,0,0', '10']\n",
            "Gens: 10\n",
            "|0 | 0 | 0 | 0 | 0 | \n",
            "0 | 0 | 1 | 0 | 0 | \n",
            "0 | 1 | 1 | 1 | 0 | \n",
            "0 | 0 | 0 | 0 | 0 | \n",
            "0 | 0 | 0 | 0 | 0 | \n",
            "\n",
            "3\n"
          ]
        }
      ]
    }
  ]
}
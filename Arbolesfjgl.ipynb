{
  "nbformat": 4,
  "nbformat_minor": 0,
  "metadata": {
    "colab": {
      "name": "Arbolesfjgl.ipynb",
      "provenance": [],
      "authorship_tag": "ABX9TyOaxYAbDFNDJP1LOagFfFD/",
      "include_colab_link": true
    },
    "kernelspec": {
      "name": "python3",
      "display_name": "Python 3"
    },
    "language_info": {
      "name": "python"
    }
  },
  "cells": [
    {
      "cell_type": "markdown",
      "metadata": {
        "id": "view-in-github",
        "colab_type": "text"
      },
      "source": [
        "<a href=\"https://colab.research.google.com/github/javierleon19/CLASES/blob/main/Arbolesfjgl.ipynb\" target=\"_parent\"><img src=\"https://colab.research.google.com/assets/colab-badge.svg\" alt=\"Open In Colab\"/></a>"
      ]
    },
    {
      "cell_type": "code",
      "metadata": {
        "id": "uo7VpiBnBgMO"
      },
      "source": [
        "class NodoBinario:\n",
        "  def __init__( self , value , left= None , right= None ):\n",
        "    self.data = value\n",
        "    self.left = left\n",
        "    self.right = right\n",
        "\n",
        "class NodoTernario:\n",
        "  def __init__( self , value , left= None , center= None , right= None ):\n",
        "    self.data = value\n",
        "    self.left = left\n",
        "    self.center = center\n",
        "    self.right = right"
      ],
      "execution_count": null,
      "outputs": []
    },
    {
      "cell_type": "code",
      "metadata": {
        "colab": {
          "base_uri": "https://localhost:8080/"
        },
        "id": "OPpuTnXuEY5B",
        "outputId": "40072845-a038-475e-a393-49b16aafc90b"
      },
      "source": [
        "arbol1 = NodoBinario(\"R\" , NodoBinario(\"C\") , NodoBinario(\"H\"))\n",
        "print(arbol1.right.data)\n",
        "\n",
        "arbol2 = NodoTernario(4 , NodoTernario(3 , NodoTernario(5 , left=NodoTernario(2)) , NodoTernario(5) , NodoTernario(2)) , None ,  NodoTernario(5))\n",
        "print(arbol2.left.right.data)\n",
        "print(arbol2.left.center.data)\n",
        "print(arbol2.right.left)\n",
        "print(\"--------------sin usar la palabra left en el print------------------\")\n",
        "ejemplo = arbol2.left.left.left.data\n",
        "print(ejemplo)\n",
        "print(\"-------¿otra forma?------\")\n",
        "\n"
      ],
      "execution_count": null,
      "outputs": [
        {
          "output_type": "stream",
          "name": "stdout",
          "text": [
            "H\n",
            "2\n",
            "5\n",
            "None\n",
            "--------------sin usar la palabra left en el print------------------\n",
            "2\n"
          ]
        }
      ]
    },
    {
      "cell_type": "code",
      "metadata": {
        "id": "DGEvOFadIvyX"
      },
      "source": [
        "root = NodoBinario(\"Santi\",None,NodoBinario(\"Jesus\",NodoBinario(\"Pedro\",None,NodoBinario(\" pedro jr\"))))\n",
        "print(root.right.left)"
      ],
      "execution_count": null,
      "outputs": []
    }
  ]
}